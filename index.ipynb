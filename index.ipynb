{
 "cells": [
  {
   "cell_type": "markdown",
   "metadata": {},
   "source": [
    "# Dimensionality Reduction With PCA\n",
    "\n",
    "## Objective\n",
    "\n",
    "In this lab, we'll explore how we can use PCA to reduce the dimensionality of our dataset by dropping Principal Components with that don't explain much of the variance in our dataset. "
   ]
  },
  {
   "cell_type": "markdown",
   "metadata": {},
   "source": [
    "## 1. A Quick Recap"
   ]
  },
  {
   "cell_type": "markdown",
   "metadata": {},
   "source": [
    "Let's go back to the food price data example that we used in the first lab. We pasted the necessary code below."
   ]
  },
  {
   "cell_type": "code",
   "execution_count": 1,
   "metadata": {},
   "outputs": [],
   "source": [
    "import pandas as pd\n",
    "import numpy as np\n",
    "import matplotlib.pyplot as plt\n",
    "import matplotlib.ticker as ticker\n",
    "% matplotlib inline"
   ]
  },
  {
   "cell_type": "markdown",
   "metadata": {},
   "source": [
    "Now, read in the dataset stored in `foodusa.csv` and store it in a pandas DataFrame.  Be sure to set the `index_col` parameter to 0 for this dataset.  Then, display the head of the dataset to ensure everything loaded correctly. "
   ]
  },
  {
   "cell_type": "code",
   "execution_count": 2,
   "metadata": {},
   "outputs": [],
   "source": [
    "data = pd.read_csv('foodusa.csv',index_col=0)"
   ]
  },
  {
   "cell_type": "markdown",
   "metadata": {},
   "source": [
    "In this lab, we'll be optimizing for using as little code as possible, so let's use scikit-learns `StandardScaler()` to get to the standardized data.  \n",
    "\n",
    "In the cell below:\n",
    "\n",
    "* Import `StandardScaler` from sklearn's `preprocessing` module\n",
    "* Create a `StandardScaler()` object\n",
    "* Use the scaler object's `fit_transform()` method on our `data` to create a scaled version of the dataset. \n",
    "* Store the transformed data in a new pandas DataFrame. \n",
    "* Our new DataFrame doesn't have column names, so fix this by setting `.columns` equal to a `list(data)`."
   ]
  },
  {
   "cell_type": "code",
   "execution_count": 4,
   "metadata": {},
   "outputs": [],
   "source": [
    "from sklearn.preprocessing import StandardScaler\n",
    "scaler = StandardScaler()\n",
    "data_std = scaler.fit_transform(data)\n",
    "data_std = pd.DataFrame(data_std)\n",
    "data_std.columns = list(data)"
   ]
  },
  {
   "cell_type": "markdown",
   "metadata": {},
   "source": [
    "Now, create a correlation matrix of our scaled DataFrame by using its `.corr()` method.  Then, display this correlation matrix in the cell under it. "
   ]
  },
  {
   "cell_type": "code",
   "execution_count": 5,
   "metadata": {},
   "outputs": [],
   "source": [
    "corr_mat = data_std.corr()"
   ]
  },
  {
   "cell_type": "code",
   "execution_count": 6,
   "metadata": {},
   "outputs": [
    {
     "data": {
      "text/html": [
       "<div>\n",
       "<style scoped>\n",
       "    .dataframe tbody tr th:only-of-type {\n",
       "        vertical-align: middle;\n",
       "    }\n",
       "\n",
       "    .dataframe tbody tr th {\n",
       "        vertical-align: top;\n",
       "    }\n",
       "\n",
       "    .dataframe thead th {\n",
       "        text-align: right;\n",
       "    }\n",
       "</style>\n",
       "<table border=\"1\" class=\"dataframe\">\n",
       "  <thead>\n",
       "    <tr style=\"text-align: right;\">\n",
       "      <th></th>\n",
       "      <th>Bread</th>\n",
       "      <th>Burger</th>\n",
       "      <th>Milk</th>\n",
       "      <th>Oranges</th>\n",
       "      <th>Tomatoes</th>\n",
       "    </tr>\n",
       "  </thead>\n",
       "  <tbody>\n",
       "    <tr>\n",
       "      <th>Bread</th>\n",
       "      <td>1.000000</td>\n",
       "      <td>0.681700</td>\n",
       "      <td>0.328239</td>\n",
       "      <td>0.036709</td>\n",
       "      <td>0.382241</td>\n",
       "    </tr>\n",
       "    <tr>\n",
       "      <th>Burger</th>\n",
       "      <td>0.681700</td>\n",
       "      <td>1.000000</td>\n",
       "      <td>0.333422</td>\n",
       "      <td>0.210937</td>\n",
       "      <td>0.631898</td>\n",
       "    </tr>\n",
       "    <tr>\n",
       "      <th>Milk</th>\n",
       "      <td>0.328239</td>\n",
       "      <td>0.333422</td>\n",
       "      <td>1.000000</td>\n",
       "      <td>-0.002779</td>\n",
       "      <td>0.254417</td>\n",
       "    </tr>\n",
       "    <tr>\n",
       "      <th>Oranges</th>\n",
       "      <td>0.036709</td>\n",
       "      <td>0.210937</td>\n",
       "      <td>-0.002779</td>\n",
       "      <td>1.000000</td>\n",
       "      <td>0.358061</td>\n",
       "    </tr>\n",
       "    <tr>\n",
       "      <th>Tomatoes</th>\n",
       "      <td>0.382241</td>\n",
       "      <td>0.631898</td>\n",
       "      <td>0.254417</td>\n",
       "      <td>0.358061</td>\n",
       "      <td>1.000000</td>\n",
       "    </tr>\n",
       "  </tbody>\n",
       "</table>\n",
       "</div>"
      ],
      "text/plain": [
       "             Bread    Burger      Milk   Oranges  Tomatoes\n",
       "Bread     1.000000  0.681700  0.328239  0.036709  0.382241\n",
       "Burger    0.681700  1.000000  0.333422  0.210937  0.631898\n",
       "Milk      0.328239  0.333422  1.000000 -0.002779  0.254417\n",
       "Oranges   0.036709  0.210937 -0.002779  1.000000  0.358061\n",
       "Tomatoes  0.382241  0.631898  0.254417  0.358061  1.000000"
      ]
     },
     "execution_count": 6,
     "metadata": {},
     "output_type": "execute_result"
    }
   ],
   "source": [
    "corr_mat"
   ]
  },
  {
   "cell_type": "markdown",
   "metadata": {},
   "source": [
    "Now that we have a correlation matrix, we can easily compute the eigenvectors and eigenvalues for this dataset.  \n",
    "\n",
    "In the cell below, use the correct function from numpy's `.linalg` module to get the eigenvalues and eigenvectors of the `corr_mat` variable.  Then, inspect the eigenvalues and eigenvectors in the following cells. "
   ]
  },
  {
   "cell_type": "code",
   "execution_count": 9,
   "metadata": {},
   "outputs": [],
   "source": [
    "eig_values, eig_vectors = np.linalg.eig(corr_mat)"
   ]
  },
  {
   "cell_type": "code",
   "execution_count": 10,
   "metadata": {},
   "outputs": [
    {
     "data": {
      "text/plain": [
       "array([2.42246795, 1.10467489, 0.2407653 , 0.73848053, 0.49361132])"
      ]
     },
     "execution_count": 10,
     "metadata": {},
     "output_type": "execute_result"
    }
   ],
   "source": [
    "eig_values"
   ]
  },
  {
   "cell_type": "code",
   "execution_count": 11,
   "metadata": {},
   "outputs": [
    {
     "data": {
      "text/plain": [
       "array([[ 0.49614868,  0.30861972,  0.49989887,  0.38639398, -0.50930459],\n",
       "       [ 0.57570231,  0.04380176, -0.77263501,  0.26247227,  0.02813712],\n",
       "       [ 0.33956956,  0.43080905, -0.00788224, -0.83463952, -0.0491    ],\n",
       "       [ 0.22498981, -0.79677694,  0.0059668 , -0.29160659, -0.47901574],\n",
       "       [ 0.50643404, -0.28702846,  0.39120139,  0.01226602,  0.71270629]])"
      ]
     },
     "execution_count": 11,
     "metadata": {},
     "output_type": "execute_result"
    }
   ],
   "source": [
    "eig_vectors"
   ]
  },
  {
   "cell_type": "markdown",
   "metadata": {},
   "source": [
    "## 2. Visualizing how much information our PCs store."
   ]
  },
  {
   "cell_type": "markdown",
   "metadata": {},
   "source": [
    "Recall from the lecture how the sum of the eigenvalues"
   ]
  },
  {
   "cell_type": "markdown",
   "metadata": {},
   "source": [
    "$$ \\lambda_1 + \\lambda_2 + \\ldots + \\lambda_5 $$ "
   ]
  },
  {
   "cell_type": "markdown",
   "metadata": {},
   "source": [
    "is equal to the sum of the variance of the variables, applied to this case:"
   ]
  },
  {
   "cell_type": "markdown",
   "metadata": {},
   "source": [
    "$$ var(bread) + var(burger) + var(Milk) + var(Oranges) + var(Tomatoes)$$"
   ]
  },
  {
   "cell_type": "markdown",
   "metadata": {},
   "source": [
    "with standardized data, we know that this sum is equal to the number of variables in the data set, which is 5 in this case. Now let's see if our eig_values add up to 5.\n",
    "\n",
    "In the cell below, display the `sum()` of our eigenvalues. "
   ]
  },
  {
   "cell_type": "code",
   "execution_count": 12,
   "metadata": {},
   "outputs": [
    {
     "data": {
      "text/plain": [
       "4.999999999999999"
      ]
     },
     "execution_count": 12,
     "metadata": {},
     "output_type": "execute_result"
    }
   ],
   "source": [
    "np.sum(eig_values)"
   ]
  },
  {
   "cell_type": "markdown",
   "metadata": {},
   "source": [
    "Looks great!"
   ]
  },
  {
   "cell_type": "markdown",
   "metadata": {},
   "source": [
    "Now we go into the essentials of PCA. for each principal component (defined by the eigenvectors), the amount of variance represented in this PC is reflected by its respective eigenvalue. So what we'll want to do is *keep* PCs with a high eigenvalue, and drop the ones with a low eigenvalue.\n",
    "\n",
    "In the cell below, get a sorted version of the `eig_values` array, sorted from highest to loweset (hint: use the `reverse` keyword!)"
   ]
  },
  {
   "cell_type": "code",
   "execution_count": 17,
   "metadata": {},
   "outputs": [],
   "source": [
    "eig_val_sorted = sorted(eig_values,reverse=True)"
   ]
  },
  {
   "cell_type": "markdown",
   "metadata": {},
   "source": [
    "Now, let's `.plot()` our sorted array."
   ]
  },
  {
   "cell_type": "code",
   "execution_count": 18,
   "metadata": {},
   "outputs": [
    {
     "data": {
      "text/plain": [
       "[<matplotlib.lines.Line2D at 0x10c923860>]"
      ]
     },
     "execution_count": 18,
     "metadata": {},
     "output_type": "execute_result"
    },
    {
     "data": {
      "image/png": "[encoded data removed]",
      "text/plain": [
       "<Figure size 432x288 with 1 Axes>"
      ]
     },
     "metadata": {},
     "output_type": "display_data"
    }
   ],
   "source": [
    "plt.plot(eig_val_sorted)"
   ]
  },
  {
   "cell_type": "markdown",
   "metadata": {},
   "source": [
    "We can plot a cumulative plot representing how much variance is explained with each new eigenvalue or principal components.\n",
    "\n",
    "In the cell below:\n",
    "\n",
    "* calculate the total of `eig_val_sorted`\n",
    "* get the `variance_explained` by dividing `eig_val_sorted` by the `total` we computed.\n",
    "* get the cumulative variance by using numpy's `.cumsum()` method and passing in `variance explained`.\n",
    "* inspect our `cum_variance` array to ensure that it is monotonically increasing, and that the final value is 1. "
   ]
  },
  {
   "cell_type": "code",
   "execution_count": 23,
   "metadata": {},
   "outputs": [
    {
     "data": {
      "text/plain": [
       "array([0.48449359, 0.70542857, 0.85312468, 0.95184694, 1.        ])"
      ]
     },
     "execution_count": 23,
     "metadata": {},
     "output_type": "execute_result"
    }
   ],
   "source": [
    "total = np.sum(eig_val_sorted)\n",
    "variance_explained = eig_val_sorted/total\n",
    "cum_variance = np.cumsum(variance_explained)\n",
    "cum_variance"
   ]
  },
  {
   "cell_type": "markdown",
   "metadata": {},
   "source": [
    "Now, run the cell below to plot `cum_variance`, so that we can easily see how much of the variance is the data is explained with each additional principal component considered:"
   ]
  },
  {
   "cell_type": "code",
   "execution_count": 30,
   "metadata": {},
   "outputs": [
    {
     "data": {
      "image/png": "[encoded data removed]",
      "text/plain": [
       "<Figure size 432x288 with 1 Axes>"
      ]
     },
     "metadata": {},
     "output_type": "display_data"
    }
   ],
   "source": [
    "index = np.arange(len(cum_variance))+1\n",
    "plt.bar(index, cum_variance);"
   ]
  },
  {
   "cell_type": "markdown",
   "metadata": {},
   "source": [
    "Let's say we decided to keep the the PCs with an eigenvalue bigger than 1. This is a popular decision rule, which in this case leads to having 2 principal components. Let's see how we can do that and how to interpret all this, but first, let's move over to scikit learn. This library has very easy-to-use PCA capabilities, and very easy to use. Let's look at how it's done!"
   ]
  },
  {
   "cell_type": "markdown",
   "metadata": {},
   "source": [
    "## 3. PCA in scikit learn\n",
    "\n",
    "Sklearn makes it simple to use PCA on our data! \n",
    "\n",
    "In the cell below:\n",
    "\n",
    "* Import `PCA` from sklearn's `.decomposition` module. \n",
    "* Create a `PCA()` object and set `n_components` equal to 5 (the number of columns in our dataset).\n",
    "* `fit()` our pca object on our scaled data, which we stored in `data_std`."
   ]
  },
  {
   "cell_type": "code",
   "execution_count": 31,
   "metadata": {},
   "outputs": [
    {
     "data": {
      "text/plain": [
       "PCA(copy=True, iterated_power='auto', n_components=5, random_state=None,\n",
       "  svd_solver='auto', tol=0.0, whiten=False)"
      ]
     },
     "execution_count": 31,
     "metadata": {},
     "output_type": "execute_result"
    }
   ],
   "source": [
    "from sklearn.decomposition import PCA\n",
    "pca = PCA(n_components=5)\n",
    "pca.fit(data_std)"
   ]
  },
  {
   "cell_type": "markdown",
   "metadata": {},
   "source": [
    "Now, get the eigenvalues from the `.explained_variance_` attribute."
   ]
  },
  {
   "cell_type": "code",
   "execution_count": 40,
   "metadata": {},
   "outputs": [
    {
     "data": {
      "text/plain": [
       "array([2.53258013, 1.15488739, 0.77204783, 0.5160482 , 0.25170918])"
      ]
     },
     "execution_count": 40,
     "metadata": {},
     "output_type": "execute_result"
    }
   ],
   "source": [
    "pca.explained_variance_"
   ]
  },
  {
   "cell_type": "markdown",
   "metadata": {},
   "source": [
    "Additionally, you can get the percentage of the variance explained by each component from the  `pca.explained_variance_ratio` attribute. Do this now in the cell below, and then inspect the array. "
   ]
  },
  {
   "cell_type": "code",
   "execution_count": 52,
   "metadata": {},
   "outputs": [
    {
     "data": {
      "text/plain": [
       "array([0.48449359, 0.22093498, 0.14769611, 0.09872226, 0.04815306])"
      ]
     },
     "execution_count": 52,
     "metadata": {},
     "output_type": "execute_result"
    }
   ],
   "source": [
    "exp_var_ratio = pca.explained_variance_ratio_\n",
    "exp_var_ratio"
   ]
  },
  {
   "cell_type": "code",
   "execution_count": 53,
   "metadata": {},
   "outputs": [],
   "source": [
    "exp_var_ratio = pca.explained_variance_ratio_"
   ]
  },
  {
   "cell_type": "markdown",
   "metadata": {},
   "source": [
    "And finally, let's get the cumulative sum by using the array's `.cumsum()` method."
   ]
  },
  {
   "cell_type": "code",
   "execution_count": 54,
   "metadata": {},
   "outputs": [
    {
     "data": {
      "text/plain": [
       "array([0.48449359, 0.70542857, 0.85312468, 0.95184694, 1.        ])"
      ]
     },
     "execution_count": 54,
     "metadata": {},
     "output_type": "execute_result"
    }
   ],
   "source": [
    "exp_var_ratio.cumsum()"
   ]
  },
  {
   "cell_type": "markdown",
   "metadata": {},
   "source": [
    "Let's say we've decided to keep 2 Principal components. Conveniently, there is the arguments `n_components` in the `PCA` function. Additionally, as you saw, the eigenvalues are already sorted according to their size!\n",
    "\n",
    "Run the cells below to get the first two principal components of our dataset using sklearn. "
   ]
  },
  {
   "cell_type": "code",
   "execution_count": 55,
   "metadata": {},
   "outputs": [
    {
     "data": {
      "text/plain": [
       "PCA(copy=True, iterated_power='auto', n_components=2, random_state=None,\n",
       "  svd_solver='auto', tol=0.0, whiten=False)"
      ]
     },
     "execution_count": 55,
     "metadata": {},
     "output_type": "execute_result"
    }
   ],
   "source": [
    "pca_2 = PCA(n_components=2)\n",
    "pca_2.fit(data_std)"
   ]
  },
  {
   "cell_type": "code",
   "execution_count": 56,
   "metadata": {},
   "outputs": [],
   "source": [
    "eig_values = pca_2.explained_variance_"
   ]
  },
  {
   "cell_type": "code",
   "execution_count": 57,
   "metadata": {},
   "outputs": [
    {
     "data": {
      "text/plain": [
       "array([[ 0.49614868,  0.57570231,  0.33956956,  0.22498981,  0.50643404],\n",
       "       [ 0.30861972,  0.04380176,  0.43080905, -0.79677694, -0.28702846]])"
      ]
     },
     "execution_count": 57,
     "metadata": {},
     "output_type": "execute_result"
    }
   ],
   "source": [
    "eig_vectors = pca_2.components_\n",
    "eig_vectors"
   ]
  },
  {
   "cell_type": "markdown",
   "metadata": {},
   "source": [
    "As seen before, 70% of the variance in the data can still be explained by just having the 2 principal components that replace the 5 variables!"
   ]
  },
  {
   "cell_type": "markdown",
   "metadata": {},
   "source": [
    "## 4. Relationship with the original variables"
   ]
  },
  {
   "cell_type": "markdown",
   "metadata": {},
   "source": [
    "Let's store the loadings of the principal components in `pc1` and `pc2`.\n",
    "\n",
    "The components themselves are stored sequentially in an array within the pca object's `components_` attribute. \n",
    "\n",
    "In the cell below, slice the first and second principal components and store them within the appropriate variables in the cell below."
   ]
  },
  {
   "cell_type": "code",
   "execution_count": 58,
   "metadata": {},
   "outputs": [],
   "source": [
    "pc1 = pca.components_[0]\n",
    "pc2 = pca.components_[1]"
   ]
  },
  {
   "cell_type": "markdown",
   "metadata": {},
   "source": [
    "Now, let's get the structure loadings for each component, and store them in a pandas series, so that we can add our original labels back in. \n",
    "\n",
    "In the cell below:\n",
    "\n",
    "* compute `structure_loading_1` by multiplying `pc1` times the square root of the corresponding eigenvalue, which can be found in `eig_values[0]`.  (hint: use `np.sqrt()` to make this easy!)\n",
    "* Store `structure_loading_1` in a pandas Series, and set the `index` parameter to `data.columns`.\n",
    "* Run the following cell to inspect the loadings for pc1 in descending order. "
   ]
  },
  {
   "cell_type": "code",
   "execution_count": 59,
   "metadata": {},
   "outputs": [],
   "source": [
    "structure_loading_1 = pc1 * np.sqrt(eig_values[0])\n",
    "str_loading_1 = pd.Series(structure_loading_1,index=data.columns)"
   ]
  },
  {
   "cell_type": "code",
   "execution_count": 60,
   "metadata": {},
   "outputs": [
    {
     "data": {
      "text/plain": [
       "Burger      0.916177\n",
       "Tomatoes    0.805943\n",
       "Bread       0.789575\n",
       "Milk        0.540394\n",
       "Oranges     0.358051\n",
       "dtype: float64"
      ]
     },
     "execution_count": 60,
     "metadata": {},
     "output_type": "execute_result"
    }
   ],
   "source": [
    "str_loading_1.sort_values(ascending=False)"
   ]
  },
  {
   "cell_type": "markdown",
   "metadata": {},
   "source": [
    "Now, repeat the process to get the structure loadings for the second principal component."
   ]
  },
  {
   "cell_type": "code",
   "execution_count": 63,
   "metadata": {},
   "outputs": [],
   "source": [
    "structure_loading_2 = pc2 * np.sqrt(eig_values[1])\n",
    "str_loading_2 = pd.Series(structure_loading_2,index=data.columns)"
   ]
  },
  {
   "cell_type": "code",
   "execution_count": 64,
   "metadata": {},
   "outputs": [
    {
     "data": {
      "text/plain": [
       "Milk        0.462972\n",
       "Bread       0.331660\n",
       "Burger      0.047072\n",
       "Tomatoes   -0.308457\n",
       "Oranges    -0.856262\n",
       "dtype: float64"
      ]
     },
     "execution_count": 64,
     "metadata": {},
     "output_type": "execute_result"
    }
   ],
   "source": [
    "str_loading_2.sort_values(ascending=False)"
   ]
  },
  {
   "cell_type": "markdown",
   "metadata": {},
   "source": [
    "**_NOTE:_** It doesn't really matter if a value is positive or negative--the magnitude is what matters when determining the importance.  Consequently, when we sort `str_loading_2` by value, we see \"Oranges\" at the very bottom.  although when we compare the magnitude of this to the others, we see that it's actually the most important category in this variable, not the least!\n",
    "\n",
    "Let's see if we can interpret our principal components, and figure out what real-world things they correspond to!\n",
    "\n",
    "Run the cell below to print the head of the `data` DataFrame again. "
   ]
  },
  {
   "cell_type": "code",
   "execution_count": 65,
   "metadata": {},
   "outputs": [
    {
     "data": {
      "text/html": [
       "<div>\n",
       "<style scoped>\n",
       "    .dataframe tbody tr th:only-of-type {\n",
       "        vertical-align: middle;\n",
       "    }\n",
       "\n",
       "    .dataframe tbody tr th {\n",
       "        vertical-align: top;\n",
       "    }\n",
       "\n",
       "    .dataframe thead th {\n",
       "        text-align: right;\n",
       "    }\n",
       "</style>\n",
       "<table border=\"1\" class=\"dataframe\">\n",
       "  <thead>\n",
       "    <tr style=\"text-align: right;\">\n",
       "      <th></th>\n",
       "      <th>Bread</th>\n",
       "      <th>Burger</th>\n",
       "      <th>Milk</th>\n",
       "      <th>Oranges</th>\n",
       "      <th>Tomatoes</th>\n",
       "    </tr>\n",
       "    <tr>\n",
       "      <th>City</th>\n",
       "      <th></th>\n",
       "      <th></th>\n",
       "      <th></th>\n",
       "      <th></th>\n",
       "      <th></th>\n",
       "    </tr>\n",
       "  </thead>\n",
       "  <tbody>\n",
       "    <tr>\n",
       "      <th>ATLANTA</th>\n",
       "      <td>24.5</td>\n",
       "      <td>94.5</td>\n",
       "      <td>73.9</td>\n",
       "      <td>80.1</td>\n",
       "      <td>41.6</td>\n",
       "    </tr>\n",
       "    <tr>\n",
       "      <th>BALTIMORE</th>\n",
       "      <td>26.5</td>\n",
       "      <td>91.0</td>\n",
       "      <td>67.5</td>\n",
       "      <td>74.6</td>\n",
       "      <td>53.3</td>\n",
       "    </tr>\n",
       "    <tr>\n",
       "      <th>BOSTON</th>\n",
       "      <td>29.7</td>\n",
       "      <td>100.8</td>\n",
       "      <td>61.4</td>\n",
       "      <td>104.0</td>\n",
       "      <td>59.6</td>\n",
       "    </tr>\n",
       "    <tr>\n",
       "      <th>BUFFALO</th>\n",
       "      <td>22.8</td>\n",
       "      <td>86.6</td>\n",
       "      <td>65.3</td>\n",
       "      <td>118.4</td>\n",
       "      <td>51.2</td>\n",
       "    </tr>\n",
       "    <tr>\n",
       "      <th>CHICAGO</th>\n",
       "      <td>26.7</td>\n",
       "      <td>86.7</td>\n",
       "      <td>62.7</td>\n",
       "      <td>105.9</td>\n",
       "      <td>51.2</td>\n",
       "    </tr>\n",
       "  </tbody>\n",
       "</table>\n",
       "</div>"
      ],
      "text/plain": [
       "           Bread  Burger  Milk  Oranges  Tomatoes\n",
       "City                                             \n",
       "ATLANTA     24.5    94.5  73.9     80.1      41.6\n",
       "BALTIMORE   26.5    91.0  67.5     74.6      53.3\n",
       "BOSTON      29.7   100.8  61.4    104.0      59.6\n",
       "BUFFALO     22.8    86.6  65.3    118.4      51.2\n",
       "CHICAGO     26.7    86.7  62.7    105.9      51.2"
      ]
     },
     "execution_count": 65,
     "metadata": {},
     "output_type": "execute_result"
    }
   ],
   "source": [
    "data.head()"
   ]
  },
  {
   "cell_type": "markdown",
   "metadata": {},
   "source": [
    "Let's try to interpret what each principal component stands for. You can argue that PC1 represents bread and burgers, let's say \"processed foods\". PC2 represents oranges and milk, let's call that PC the \"non-processed foods\". Again, note that both strongly positive and strongly negative PCs are the most important--it's the strength, not the sign, that matters here!"
   ]
  },
  {
   "cell_type": "markdown",
   "metadata": {},
   "source": [
    "# 5. The new data"
   ]
  },
  {
   "cell_type": "markdown",
   "metadata": {},
   "source": [
    "What you'll usually want to do is replace your 5 columns with the new data. Now, what does the new data look like? You'll need to transform your columns using the loadings used in your eigenvectors. Let's try and find the PC1 value for Atlanta!"
   ]
  },
  {
   "cell_type": "markdown",
   "metadata": {},
   "source": [
    "First, let's select the attribute values for Atlanta. We'll need to use the **standardized** values as this is the data we used to generate the PCs."
   ]
  },
  {
   "cell_type": "code",
   "execution_count": 66,
   "metadata": {},
   "outputs": [],
   "source": [
    "atlanta_var = data_std.loc[0]"
   ]
  },
  {
   "cell_type": "code",
   "execution_count": 67,
   "metadata": {},
   "outputs": [
    {
     "data": {
      "text/plain": [
       "Bread      -0.322747\n",
       "Burger      0.357765\n",
       "Milk        1.707156\n",
       "Oranges    -1.643751\n",
       "Tomatoes   -0.963643\n",
       "Name: 0, dtype: float64"
      ]
     },
     "execution_count": 67,
     "metadata": {},
     "output_type": "execute_result"
    }
   ],
   "source": [
    "atlanta_var"
   ]
  },
  {
   "cell_type": "markdown",
   "metadata": {},
   "source": [
    "Now we have to multiply this with our loadings vectors! Let's do this for both PCs.\n",
    "\n",
    "In the cell below, get the `np.sum()` of `atlanta_var` multiplied by `pc1`."
   ]
  },
  {
   "cell_type": "code",
   "execution_count": 69,
   "metadata": {},
   "outputs": [
    {
     "data": {
      "text/plain": [
       "array([-0.42927736, -0.49810869, -0.2938021 , -0.19466551, -0.43817645])"
      ]
     },
     "execution_count": 69,
     "metadata": {},
     "output_type": "execute_result"
    }
   ],
   "source": [
    "np.sum(atlanta_var)*pc1"
   ]
  },
  {
   "cell_type": "markdown",
   "metadata": {},
   "source": [
    "Now, do this again, but for `pc2`."
   ]
  },
  {
   "cell_type": "code",
   "execution_count": 71,
   "metadata": {},
   "outputs": [
    {
     "data": {
      "text/plain": [
       "array([-0.2670237 , -0.03789812, -0.37274426,  0.68938671,  0.24834253])"
      ]
     },
     "execution_count": 71,
     "metadata": {},
     "output_type": "execute_result"
    }
   ],
   "source": [
    "np.sum(atlanta_var)*pc2"
   ]
  },
  {
   "cell_type": "markdown",
   "metadata": {},
   "source": [
    "If we wanted to transform all of our data this way, we'd be here all day! Luckily, sklearn provides functionality that makes short work of this task. There is a method called `transform` in the PCA library that does this for all the observations in one step. \n",
    "\n",
    "Run the cells below to transform our city data!"
   ]
  },
  {
   "cell_type": "code",
   "execution_count": 73,
   "metadata": {},
   "outputs": [],
   "source": [
    "PC_df = pd.DataFrame(pca_2.transform(data_std), index=data.index, columns=['PC1','PC2'])"
   ]
  },
  {
   "cell_type": "code",
   "execution_count": 74,
   "metadata": {},
   "outputs": [
    {
     "data": {
      "text/html": [
       "<div>\n",
       "<style scoped>\n",
       "    .dataframe tbody tr th:only-of-type {\n",
       "        vertical-align: middle;\n",
       "    }\n",
       "\n",
       "    .dataframe tbody tr th {\n",
       "        vertical-align: top;\n",
       "    }\n",
       "\n",
       "    .dataframe thead th {\n",
       "        text-align: right;\n",
       "    }\n",
       "</style>\n",
       "<table border=\"1\" class=\"dataframe\">\n",
       "  <thead>\n",
       "    <tr style=\"text-align: right;\">\n",
       "      <th></th>\n",
       "      <th>PC1</th>\n",
       "      <th>PC2</th>\n",
       "    </tr>\n",
       "    <tr>\n",
       "      <th>City</th>\n",
       "      <th></th>\n",
       "      <th></th>\n",
       "    </tr>\n",
       "  </thead>\n",
       "  <tbody>\n",
       "    <tr>\n",
       "      <th>ATLANTA</th>\n",
       "      <td>-0.232315</td>\n",
       "      <td>2.237819</td>\n",
       "    </tr>\n",
       "    <tr>\n",
       "      <th>BALTIMORE</th>\n",
       "      <td>0.288023</td>\n",
       "      <td>1.926235</td>\n",
       "    </tr>\n",
       "    <tr>\n",
       "      <th>BOSTON</th>\n",
       "      <td>2.298492</td>\n",
       "      <td>0.075243</td>\n",
       "    </tr>\n",
       "    <tr>\n",
       "      <th>BUFFALO</th>\n",
       "      <td>-0.348852</td>\n",
       "      <td>-1.129927</td>\n",
       "    </tr>\n",
       "    <tr>\n",
       "      <th>CHICAGO</th>\n",
       "      <td>0.116322</td>\n",
       "      <td>-0.088027</td>\n",
       "    </tr>\n",
       "    <tr>\n",
       "      <th>CINCINNATI</th>\n",
       "      <td>0.605998</td>\n",
       "      <td>0.461222</td>\n",
       "    </tr>\n",
       "    <tr>\n",
       "      <th>CLEVELAND</th>\n",
       "      <td>-1.242714</td>\n",
       "      <td>-1.335505</td>\n",
       "    </tr>\n",
       "    <tr>\n",
       "      <th>DALLAS</th>\n",
       "      <td>-1.121562</td>\n",
       "      <td>-0.859501</td>\n",
       "    </tr>\n",
       "    <tr>\n",
       "      <th>DETROIT</th>\n",
       "      <td>-0.280792</td>\n",
       "      <td>-1.347375</td>\n",
       "    </tr>\n",
       "    <tr>\n",
       "      <th>HONALULU</th>\n",
       "      <td>4.168851</td>\n",
       "      <td>-0.505083</td>\n",
       "    </tr>\n",
       "    <tr>\n",
       "      <th>HOUSTON</th>\n",
       "      <td>-1.316582</td>\n",
       "      <td>-0.151809</td>\n",
       "    </tr>\n",
       "    <tr>\n",
       "      <th>KANSAS CITY</th>\n",
       "      <td>-0.324461</td>\n",
       "      <td>0.615497</td>\n",
       "    </tr>\n",
       "    <tr>\n",
       "      <th>LOS ANGELES</th>\n",
       "      <td>-1.211956</td>\n",
       "      <td>1.362077</td>\n",
       "    </tr>\n",
       "    <tr>\n",
       "      <th>MILWAUKEE</th>\n",
       "      <td>-1.118232</td>\n",
       "      <td>-1.882291</td>\n",
       "    </tr>\n",
       "    <tr>\n",
       "      <th>MINNEAPOLIS</th>\n",
       "      <td>-0.452064</td>\n",
       "      <td>-0.990662</td>\n",
       "    </tr>\n",
       "    <tr>\n",
       "      <th>NEW YORK</th>\n",
       "      <td>3.779884</td>\n",
       "      <td>0.259320</td>\n",
       "    </tr>\n",
       "    <tr>\n",
       "      <th>PHILADELPHIA</th>\n",
       "      <td>0.894790</td>\n",
       "      <td>-0.031577</td>\n",
       "    </tr>\n",
       "    <tr>\n",
       "      <th>PITTSBURGH</th>\n",
       "      <td>0.619647</td>\n",
       "      <td>-0.825288</td>\n",
       "    </tr>\n",
       "    <tr>\n",
       "      <th>ST LOUIS</th>\n",
       "      <td>0.233133</td>\n",
       "      <td>-0.533188</td>\n",
       "    </tr>\n",
       "    <tr>\n",
       "      <th>SAN DIEGO</th>\n",
       "      <td>-1.932777</td>\n",
       "      <td>0.741302</td>\n",
       "    </tr>\n",
       "    <tr>\n",
       "      <th>SAN FRANCISCO</th>\n",
       "      <td>-0.880164</td>\n",
       "      <td>0.194150</td>\n",
       "    </tr>\n",
       "    <tr>\n",
       "      <th>SEATTLE</th>\n",
       "      <td>-2.137999</td>\n",
       "      <td>0.375538</td>\n",
       "    </tr>\n",
       "    <tr>\n",
       "      <th>WASHINGTON DC</th>\n",
       "      <td>-0.404672</td>\n",
       "      <td>1.431830</td>\n",
       "    </tr>\n",
       "  </tbody>\n",
       "</table>\n",
       "</div>"
      ],
      "text/plain": [
       "                    PC1       PC2\n",
       "City                             \n",
       "ATLANTA       -0.232315  2.237819\n",
       "BALTIMORE      0.288023  1.926235\n",
       "BOSTON         2.298492  0.075243\n",
       "BUFFALO       -0.348852 -1.129927\n",
       "CHICAGO        0.116322 -0.088027\n",
       "CINCINNATI     0.605998  0.461222\n",
       "CLEVELAND     -1.242714 -1.335505\n",
       "DALLAS        -1.121562 -0.859501\n",
       "DETROIT       -0.280792 -1.347375\n",
       "HONALULU       4.168851 -0.505083\n",
       "HOUSTON       -1.316582 -0.151809\n",
       "KANSAS CITY   -0.324461  0.615497\n",
       "LOS ANGELES   -1.211956  1.362077\n",
       "MILWAUKEE     -1.118232 -1.882291\n",
       "MINNEAPOLIS   -0.452064 -0.990662\n",
       "NEW YORK       3.779884  0.259320\n",
       "PHILADELPHIA   0.894790 -0.031577\n",
       "PITTSBURGH     0.619647 -0.825288\n",
       "ST LOUIS       0.233133 -0.533188\n",
       "SAN DIEGO     -1.932777  0.741302\n",
       "SAN FRANCISCO -0.880164  0.194150\n",
       "SEATTLE       -2.137999  0.375538\n",
       "WASHINGTON DC -0.404672  1.431830"
      ]
     },
     "execution_count": 74,
     "metadata": {},
     "output_type": "execute_result"
    }
   ],
   "source": [
    "PC_df"
   ]
  },
  {
   "cell_type": "markdown",
   "metadata": {},
   "source": [
    "## Conclusion\n",
    "\n",
    "You did it! PCA provides a great, intuitive way for us to transform our dataset into a format where the predictors are uncorrelated, as well as to reduce dimensionality by dropping less important components. "
   ]
  }
 ],
 "metadata": {
  "kernelspec": {
   "display_name": "Python 3",
   "language": "python",
   "name": "python3"
  },
  "language_info": {
   "codemirror_mode": {
    "name": "ipython",
    "version": 3
   },
   "file_extension": ".py",
   "mimetype": "text/x-python",
   "name": "python",
   "nbconvert_exporter": "python",
   "pygments_lexer": "ipython3",
   "version": "3.6.5"
  }
 },
 "nbformat": 4,
 "nbformat_minor": 2
}
